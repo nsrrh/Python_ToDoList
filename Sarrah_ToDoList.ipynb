{
 "cells": [
  {
   "cell_type": "code",
   "execution_count": null,
   "id": "c48538b2-ef97-4373-b8b4-745e4408f27f",
   "metadata": {},
   "outputs": [],
   "source": [
    "# Python To-Do List\n",
    "\n",
    "# Enable users to Register, Login w Username & Passwords\n",
    "# Able to set tasks\\\n",
    "# Able to set tasks priority\n",
    "# Able to set dateline\n",
    "# Check-off task"
   ]
  },
  {
   "cell_type": "code",
   "execution_count": 4,
   "id": "7c6bc257-7035-4ab7-8ccf-521ac9b2fd40",
   "metadata": {},
   "outputs": [
    {
     "name": "stdout",
     "output_type": "stream",
     "text": [
      "Options:\n",
      "Enter 'register' to register a new user\n",
      "Enter 'login' to log in\n",
      "Enter 'add' to add a task\n",
      "Enter 'delete' to delete a task\n",
      "Enter 'view' to view tasks\n",
      "Enter 'exit' to end the program\n"
     ]
    },
    {
     "name": "stdin",
     "output_type": "stream",
     "text": [
      ":  register\n",
      "Enter username:  sarrah\n",
      "Enter password:  2005\n"
     ]
    },
    {
     "name": "stdout",
     "output_type": "stream",
     "text": [
      "Registration successful. You can now log in.\n",
      "Options:\n",
      "Enter 'register' to register a new user\n",
      "Enter 'login' to log in\n",
      "Enter 'add' to add a task\n",
      "Enter 'delete' to delete a task\n",
      "Enter 'view' to view tasks\n",
      "Enter 'exit' to end the program\n"
     ]
    },
    {
     "name": "stdin",
     "output_type": "stream",
     "text": [
      ":  login\n",
      "Enter username:  sarrah\n",
      "Enter password:  2005\n"
     ]
    },
    {
     "name": "stdout",
     "output_type": "stream",
     "text": [
      "Login successful.\n",
      "Options:\n",
      "Enter 'add' to add a task\n",
      "Enter 'delete' to delete a task\n",
      "Enter 'view' to view tasks\n",
      "Enter 'logout' to log out\n"
     ]
    },
    {
     "name": "stdin",
     "output_type": "stream",
     "text": [
      ":  add\n",
      "Enter a task:  gym\n",
      "Enter priority level (high, medium, low):  low\n",
      "Enter deadline (YYYY-MM-DD):  2023-04-22\n"
     ]
    },
    {
     "name": "stdout",
     "output_type": "stream",
     "text": [
      "Task added: gym\n",
      "Options:\n",
      "Enter 'add' to add a task\n",
      "Enter 'delete' to delete a task\n",
      "Enter 'view' to view tasks\n",
      "Enter 'logout' to log out\n"
     ]
    },
    {
     "name": "stdin",
     "output_type": "stream",
     "text": [
      ":  view\n"
     ]
    },
    {
     "name": "stdout",
     "output_type": "stream",
     "text": [
      "Tasks:\n",
      "1. gym - Priority: low - Deadline: 2023-04-22\n",
      "Options:\n",
      "Enter 'add' to add a task\n",
      "Enter 'delete' to delete a task\n",
      "Enter 'view' to view tasks\n",
      "Enter 'logout' to log out\n"
     ]
    },
    {
     "name": "stdin",
     "output_type": "stream",
     "text": [
      ":  logout\n"
     ]
    },
    {
     "name": "stdout",
     "output_type": "stream",
     "text": [
      "Options:\n",
      "Enter 'register' to register a new user\n",
      "Enter 'login' to log in\n",
      "Enter 'add' to add a task\n",
      "Enter 'delete' to delete a task\n",
      "Enter 'view' to view tasks\n",
      "Enter 'exit' to end the program\n"
     ]
    },
    {
     "name": "stdin",
     "output_type": "stream",
     "text": [
      ":  exit\n"
     ]
    }
   ],
   "source": [
    "# Define a dictionary to store user credentials and tasks\n",
    "user_data = {}\n",
    "\n",
    "def register(username, password):\n",
    "    if username in user_data:\n",
    "        print(\"Username already exists. Please choose a different one.\")\n",
    "    else:\n",
    "        user_data[username] = {'password': password, 'tasks': []}\n",
    "        print(\"Registration successful. You can now log in.\")\n",
    "\n",
    "def login(username, password):\n",
    "    if username in user_data and user_data[username]['password'] == password:\n",
    "        print(\"Login successful.\")\n",
    "        return True\n",
    "    else:\n",
    "        print(\"Invalid username or password.\")\n",
    "        return False\n",
    "\n",
    "def add_task(username, task, priority, deadline):\n",
    "    user_data[username]['tasks'].append((task, priority, deadline))\n",
    "    print(\"Task added:\", task)\n",
    "\n",
    "def delete_task(username, task):\n",
    "    tasks = user_data[username]['tasks']\n",
    "    deleted = False\n",
    "    for t in tasks:\n",
    "        if t[0] == task:\n",
    "            tasks.remove(t)\n",
    "            print(\"Task deleted:\", t[0])\n",
    "            deleted = True\n",
    "            break\n",
    "    if not deleted:\n",
    "        print(\"Task not found\")\n",
    "\n",
    "def view_tasks(username):\n",
    "    tasks = user_data[username]['tasks']\n",
    "    if not tasks:\n",
    "        print(\"No tasks in the list\")\n",
    "    else:\n",
    "        print(\"Tasks:\")\n",
    "        for index, task in enumerate(tasks, start=1):\n",
    "            print(f\"{index}. {task[0]} - Priority: {task[1]} - Deadline: {task[2]}\")\n",
    "\n",
    "while True:\n",
    "    print(\"Options:\")\n",
    "    print(\"Enter 'register' to register a new user\")\n",
    "    print(\"Enter 'login' to log in\")\n",
    "    print(\"Enter 'add' to add a task\")\n",
    "    print(\"Enter 'delete' to delete a task\")\n",
    "    print(\"Enter 'view' to view tasks\")\n",
    "    print(\"Enter 'exit' to end the program\")\n",
    "\n",
    "    user_input = input(\": \")\n",
    "\n",
    "    if user_input == \"exit\":\n",
    "        break\n",
    "    elif user_input == \"register\":\n",
    "        username = input(\"Enter username: \")\n",
    "        password = input(\"Enter password: \")\n",
    "        register(username, password)\n",
    "    elif user_input == \"login\":\n",
    "        username = input(\"Enter username: \")\n",
    "        password = input(\"Enter password: \")\n",
    "        if login(username, password):\n",
    "            while True:\n",
    "                print(\"Options:\")\n",
    "                print(\"Enter 'add' to add a task\")\n",
    "                print(\"Enter 'delete' to delete a task\")\n",
    "                print(\"Enter 'view' to view tasks\")\n",
    "                print(\"Enter 'logout' to log out\")\n",
    "\n",
    "                user_input = input(\": \")\n",
    "\n",
    "                if user_input == \"logout\":\n",
    "                    break\n",
    "                elif user_input == \"add\":\n",
    "                    task = input(\"Enter a task: \")\n",
    "                    priority = input(\"Enter priority level (high, medium, low): \")\n",
    "                    deadline = input(\"Enter deadline (YYYY-MM-DD): \")\n",
    "                    add_task(username, task, priority, deadline)\n",
    "                elif user_input == \"delete\":\n",
    "                    task = input(\"Enter the task to delete: \")\n",
    "                    delete_task(username, task)\n",
    "                elif user_input == \"view\":\n",
    "                    view_tasks(username)\n",
    "                else:\n",
    "                    print(\"Invalid input\")\n",
    "    else:\n",
    "        print(\"Invalid input\")\n"
   ]
  },
  {
   "cell_type": "code",
   "execution_count": 2,
   "id": "4cf85414-efd2-4d0f-bf6b-7be017bf2ccd",
   "metadata": {},
   "outputs": [
    {
     "name": "stdout",
     "output_type": "stream",
     "text": [
      "Options:\n",
      "Enter 'register' to register a new user\n",
      "Enter 'login' to log in\n",
      "Enter 'add' to add a task\n",
      "Enter 'delete' to delete a task\n",
      "Enter 'view' to view tasks\n",
      "Enter 'complete' to mark a task as completed\n",
      "Enter 'exit' to end the program\n"
     ]
    },
    {
     "name": "stdin",
     "output_type": "stream",
     "text": [
      ":  login\n",
      "Enter username:  sarrah\n",
      "Enter password:  205\n"
     ]
    },
    {
     "name": "stdout",
     "output_type": "stream",
     "text": [
      "Invalid username or password.\n",
      "Options:\n",
      "Enter 'register' to register a new user\n",
      "Enter 'login' to log in\n",
      "Enter 'add' to add a task\n",
      "Enter 'delete' to delete a task\n",
      "Enter 'view' to view tasks\n",
      "Enter 'complete' to mark a task as completed\n",
      "Enter 'exit' to end the program\n"
     ]
    },
    {
     "name": "stdin",
     "output_type": "stream",
     "text": [
      ":  register\n",
      "Enter username:  sarrah\n",
      "Enter password:  2005\n"
     ]
    },
    {
     "name": "stdout",
     "output_type": "stream",
     "text": [
      "Registration successful. You can now log in.\n",
      "Options:\n",
      "Enter 'register' to register a new user\n",
      "Enter 'login' to log in\n",
      "Enter 'add' to add a task\n",
      "Enter 'delete' to delete a task\n",
      "Enter 'view' to view tasks\n",
      "Enter 'complete' to mark a task as completed\n",
      "Enter 'exit' to end the program\n"
     ]
    },
    {
     "name": "stdin",
     "output_type": "stream",
     "text": [
      ":  login\n",
      "Enter username:  sarrah\n",
      "Enter password:  2005\n"
     ]
    },
    {
     "name": "stdout",
     "output_type": "stream",
     "text": [
      "Login successful.\n",
      "Options:\n",
      "Enter 'add' to add a task\n",
      "Enter 'delete' to delete a task\n",
      "Enter 'view' to view tasks\n",
      "Enter 'complete' to mark a task as completed\n",
      "Enter 'logout' to log out\n"
     ]
    },
    {
     "name": "stdin",
     "output_type": "stream",
     "text": [
      ":  add\n",
      "Enter a task:  buy\n",
      "Enter priority level (high, medium, low):  medium\n",
      "Enter deadline (YYYY-MM-DD):  2024-04-20\n"
     ]
    },
    {
     "name": "stdout",
     "output_type": "stream",
     "text": [
      "Task added: buy\n",
      "Options:\n",
      "Enter 'add' to add a task\n",
      "Enter 'delete' to delete a task\n",
      "Enter 'view' to view tasks\n",
      "Enter 'complete' to mark a task as completed\n",
      "Enter 'logout' to log out\n"
     ]
    },
    {
     "name": "stdin",
     "output_type": "stream",
     "text": [
      ":  view\n"
     ]
    },
    {
     "name": "stdout",
     "output_type": "stream",
     "text": [
      "Tasks:\n",
      "1. buy - Priority: medium - Deadline: 2024-04-20 - Status: Not Completed\n",
      "Options:\n",
      "Enter 'add' to add a task\n",
      "Enter 'delete' to delete a task\n",
      "Enter 'view' to view tasks\n",
      "Enter 'complete' to mark a task as completed\n",
      "Enter 'logout' to log out\n"
     ]
    },
    {
     "name": "stdin",
     "output_type": "stream",
     "text": [
      ":  add\n",
      "Enter a task:  buy banana\n",
      "Enter priority level (high, medium, low):  high\n",
      "Enter deadline (YYYY-MM-DD):  2024-04-23\n"
     ]
    },
    {
     "name": "stdout",
     "output_type": "stream",
     "text": [
      "Task added: buy banana\n",
      "Options:\n",
      "Enter 'add' to add a task\n",
      "Enter 'delete' to delete a task\n",
      "Enter 'view' to view tasks\n",
      "Enter 'complete' to mark a task as completed\n",
      "Enter 'logout' to log out\n"
     ]
    },
    {
     "name": "stdin",
     "output_type": "stream",
     "text": [
      ":  view\n"
     ]
    },
    {
     "name": "stdout",
     "output_type": "stream",
     "text": [
      "Tasks:\n",
      "1. buy - Priority: medium - Deadline: 2024-04-20 - Status: Not Completed\n",
      "2. buy banana - Priority: high - Deadline: 2024-04-23 - Status: Not Completed\n",
      "Options:\n",
      "Enter 'add' to add a task\n",
      "Enter 'delete' to delete a task\n",
      "Enter 'view' to view tasks\n",
      "Enter 'complete' to mark a task as completed\n",
      "Enter 'logout' to log out\n"
     ]
    },
    {
     "name": "stdin",
     "output_type": "stream",
     "text": [
      ":  complete\n",
      "Enter the task index to mark as completed:  1\n"
     ]
    },
    {
     "name": "stdout",
     "output_type": "stream",
     "text": [
      "Task marked as completed: buy\n",
      "Options:\n",
      "Enter 'add' to add a task\n",
      "Enter 'delete' to delete a task\n",
      "Enter 'view' to view tasks\n",
      "Enter 'complete' to mark a task as completed\n",
      "Enter 'logout' to log out\n"
     ]
    },
    {
     "name": "stdin",
     "output_type": "stream",
     "text": [
      ":  view\n"
     ]
    },
    {
     "name": "stdout",
     "output_type": "stream",
     "text": [
      "Tasks:\n",
      "1. buy - Priority: medium - Deadline: 2024-04-20 - Status: Completed\n",
      "2. buy banana - Priority: high - Deadline: 2024-04-23 - Status: Not Completed\n",
      "Options:\n",
      "Enter 'add' to add a task\n",
      "Enter 'delete' to delete a task\n",
      "Enter 'view' to view tasks\n",
      "Enter 'complete' to mark a task as completed\n",
      "Enter 'logout' to log out\n"
     ]
    },
    {
     "name": "stdin",
     "output_type": "stream",
     "text": [
      ":  complete\n",
      "Enter the task index to mark as completed:  2\n"
     ]
    },
    {
     "name": "stdout",
     "output_type": "stream",
     "text": [
      "Task marked as completed: buy banana\n",
      "Options:\n",
      "Enter 'add' to add a task\n",
      "Enter 'delete' to delete a task\n",
      "Enter 'view' to view tasks\n",
      "Enter 'complete' to mark a task as completed\n",
      "Enter 'logout' to log out\n"
     ]
    },
    {
     "name": "stdin",
     "output_type": "stream",
     "text": [
      ":  view\n"
     ]
    },
    {
     "name": "stdout",
     "output_type": "stream",
     "text": [
      "Tasks:\n",
      "1. buy - Priority: medium - Deadline: 2024-04-20 - Status: Completed\n",
      "2. buy banana - Priority: high - Deadline: 2024-04-23 - Status: Completed\n",
      "Options:\n",
      "Enter 'add' to add a task\n",
      "Enter 'delete' to delete a task\n",
      "Enter 'view' to view tasks\n",
      "Enter 'complete' to mark a task as completed\n",
      "Enter 'logout' to log out\n"
     ]
    },
    {
     "name": "stdin",
     "output_type": "stream",
     "text": [
      ":  logout\n"
     ]
    },
    {
     "name": "stdout",
     "output_type": "stream",
     "text": [
      "Options:\n",
      "Enter 'register' to register a new user\n",
      "Enter 'login' to log in\n",
      "Enter 'add' to add a task\n",
      "Enter 'delete' to delete a task\n",
      "Enter 'view' to view tasks\n",
      "Enter 'complete' to mark a task as completed\n",
      "Enter 'exit' to end the program\n"
     ]
    },
    {
     "name": "stdin",
     "output_type": "stream",
     "text": [
      ":  exit\n"
     ]
    }
   ],
   "source": [
    "# Define a dictionary to store user credentials and tasks\n",
    "user_data = {}\n",
    "\n",
    "def register(username, password):\n",
    "    if username in user_data:\n",
    "        print(\"Username already exists. Please choose a different one.\")\n",
    "    else:\n",
    "        user_data[username] = {'password': password, 'tasks': []}\n",
    "        print(\"Registration successful. You can now log in.\")\n",
    "\n",
    "def login(username, password):\n",
    "    if username in user_data and user_data[username]['password'] == password:\n",
    "        print(\"Login successful.\")\n",
    "        return True\n",
    "    else:\n",
    "        print(\"Invalid username or password.\")\n",
    "        return False\n",
    "\n",
    "def add_task(username, task, priority, deadline):\n",
    "    user_data[username]['tasks'].append({'task': task, 'priority': priority, 'deadline': deadline, 'completed': False})\n",
    "    print(\"Task added:\", task)\n",
    "\n",
    "def delete_task(username, task_index):\n",
    "    tasks = user_data[username]['tasks']\n",
    "    if 1 <= task_index <= len(tasks):\n",
    "        deleted_task = tasks.pop(task_index - 1)\n",
    "        print(\"Task deleted:\", deleted_task['task'])\n",
    "    else:\n",
    "        print(\"Invalid task index\")\n",
    "\n",
    "def view_tasks(username):\n",
    "    tasks = user_data[username]['tasks']\n",
    "    if not tasks:\n",
    "        print(\"No tasks in the list\")\n",
    "    else:\n",
    "        print(\"Tasks:\")\n",
    "        for index, task in enumerate(tasks, start=1):\n",
    "            status = \"Completed\" if task['completed'] else \"Not Completed\"\n",
    "            print(f\"{index}. {task['task']} - Priority: {task['priority']} - Deadline: {task['deadline']} - Status: {status}\")\n",
    "\n",
    "def mark_task_as_completed(username, task_index):\n",
    "    tasks = user_data[username]['tasks']\n",
    "    if 1 <= task_index <= len(tasks):\n",
    "        tasks[task_index - 1]['completed'] = True\n",
    "        print(\"Task marked as completed:\", tasks[task_index - 1]['task'])\n",
    "    else:\n",
    "        print(\"Invalid task index\")\n",
    "\n",
    "while True:\n",
    "    print(\"Options:\")\n",
    "    print(\"Enter 'register' to register a new user\")\n",
    "    print(\"Enter 'login' to log in\")\n",
    "    print(\"Enter 'add' to add a task\")\n",
    "    print(\"Enter 'delete' to delete a task\")\n",
    "    print(\"Enter 'view' to view tasks\")\n",
    "    print(\"Enter 'complete' to mark a task as completed\")\n",
    "    print(\"Enter 'exit' to end the program\")\n",
    "\n",
    "    user_input = input(\": \")\n",
    "\n",
    "    if user_input == \"exit\":\n",
    "        break\n",
    "    elif user_input == \"register\":\n",
    "        username = input(\"Enter username: \")\n",
    "        password = input(\"Enter password: \")\n",
    "        register(username, password)\n",
    "    elif user_input == \"login\":\n",
    "        username = input(\"Enter username: \")\n",
    "        password = input(\"Enter password: \")\n",
    "        if login(username, password):\n",
    "            while True:\n",
    "                print(\"Options:\")\n",
    "                print(\"Enter 'add' to add a task\")\n",
    "                print(\"Enter 'delete' to delete a task\")\n",
    "                print(\"Enter 'view' to view tasks\")\n",
    "                print(\"Enter 'complete' to mark a task as completed\")\n",
    "                print(\"Enter 'logout' to log out\")\n",
    "\n",
    "                user_input = input(\": \")\n",
    "\n",
    "                if user_input == \"logout\":\n",
    "                    break\n",
    "                elif user_input == \"add\":\n",
    "                    task = input(\"Enter a task: \")\n",
    "                    priority = input(\"Enter priority level (high, medium, low): \")\n",
    "                    deadline = input(\"Enter deadline (YYYY-MM-DD): \")\n",
    "                    add_task(username, task, priority, deadline)\n",
    "                elif user_input == \"delete\":\n",
    "                    task_index = int(input(\"Enter the task index to delete: \"))\n",
    "                    delete_task(username, task_index)\n",
    "                elif user_input == \"view\":\n",
    "                    view_tasks(username)\n",
    "                elif user_input == \"complete\":\n",
    "                    task_index = int(input(\"Enter the task index to mark as completed: \"))\n",
    "                    mark_task_as_completed(username, task_index)\n",
    "                else:\n",
    "                    print(\"Invalid input\")\n",
    "    else:\n",
    "        print(\"Invalid input\")\n"
   ]
  },
  {
   "cell_type": "code",
   "execution_count": null,
   "id": "5e18ca83-3ea0-4324-823e-cd764c5ff512",
   "metadata": {},
   "outputs": [],
   "source": []
  }
 ],
 "metadata": {
  "kernelspec": {
   "display_name": "Python 3 (ipykernel)",
   "language": "python",
   "name": "python3"
  },
  "language_info": {
   "codemirror_mode": {
    "name": "ipython",
    "version": 3
   },
   "file_extension": ".py",
   "mimetype": "text/x-python",
   "name": "python",
   "nbconvert_exporter": "python",
   "pygments_lexer": "ipython3",
   "version": "3.11.5"
  }
 },
 "nbformat": 4,
 "nbformat_minor": 5
}
